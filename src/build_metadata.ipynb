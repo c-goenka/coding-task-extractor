{
 "cells": [
  {
   "cell_type": "code",
   "execution_count": 9,
   "id": "27a1bf68",
   "metadata": {},
   "outputs": [],
   "source": [
    "import pandas as pd\n",
    "import json\n",
    "\n",
    "papers_df = pd.read_csv(\"../chi_23_coding_papers.csv\")"
   ]
  },
  {
   "cell_type": "code",
   "execution_count": 10,
   "id": "4b8abe82",
   "metadata": {},
   "outputs": [],
   "source": [
    "papers_df.columns;"
   ]
  },
  {
   "cell_type": "code",
   "execution_count": 11,
   "id": "197efa64",
   "metadata": {},
   "outputs": [],
   "source": [
    "papers_df.head();"
   ]
  },
  {
   "cell_type": "code",
   "execution_count": 12,
   "id": "130f45d9",
   "metadata": {},
   "outputs": [],
   "source": [
    "original_names = [\n",
    "    'Key', 'Title', 'Author', 'Publication Title', 'Publication Year',\n",
    "    'ISBN', 'Url', 'Abstract Note', 'File Attachments'\n",
    "]\n",
    "updated_names = [\n",
    "    'paper_id', 'title', 'authors', 'venue', 'year',\n",
    "    'isbn', 'url', 'abstract', 'pdf_path'\n",
    "]\n",
    "\n",
    "papers_df.rename(columns={original_names[i] : updated_names[i] for i in range(len(original_names))}, inplace=True)"
   ]
  },
  {
   "cell_type": "code",
   "execution_count": 13,
   "id": "fdbcbb30",
   "metadata": {},
   "outputs": [],
   "source": [
    "selected_columns = updated_names\n",
    "papers_df[selected_columns];"
   ]
  },
  {
   "cell_type": "code",
   "execution_count": null,
   "id": "dbfcd875",
   "metadata": {},
   "outputs": [],
   "source": [
    "papers_dict = papers_df[selected_columns].set_index('paper_id').to_dict(orient='index')"
   ]
  },
  {
   "cell_type": "code",
   "execution_count": 15,
   "id": "d72a0533",
   "metadata": {},
   "outputs": [],
   "source": [
    "papers_dict;"
   ]
  },
  {
   "cell_type": "code",
   "execution_count": null,
   "id": "0ff13d27",
   "metadata": {},
   "outputs": [],
   "source": [
    "with open('../data/papers_dict.json', 'w') as f:\n",
    "    json.dump(papers_dict, f, indent=4)"
   ]
  }
 ],
 "metadata": {
  "kernelspec": {
   "display_name": "venv",
   "language": "python",
   "name": "python3"
  },
  "language_info": {
   "codemirror_mode": {
    "name": "ipython",
    "version": 3
   },
   "file_extension": ".py",
   "mimetype": "text/x-python",
   "name": "python",
   "nbconvert_exporter": "python",
   "pygments_lexer": "ipython3",
   "version": "3.13.5"
  }
 },
 "nbformat": 4,
 "nbformat_minor": 5
}
